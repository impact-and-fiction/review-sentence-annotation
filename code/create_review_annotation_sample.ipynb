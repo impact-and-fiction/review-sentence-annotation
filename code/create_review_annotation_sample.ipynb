{
 "cells": [
  {
   "cell_type": "markdown",
   "id": "e10cd7bd-1396-4a53-8b31-b89440e012b6",
   "metadata": {},
   "source": [
    "# Sampling Reviews for Annotation\n",
    "\n",
    "Criteria:\n",
    "\n",
    "- balanced number of reviews across all genres.\n",
    "    - skip non-fiction and other fiction?\n",
    "- reviews across all ratings and length bins\n",
    "- reviews across platforms (not essential)\n",
    "    - include NBD Biblion reviews?\n",
    "- review date?\n",
    "- reviewer prolificness?\n",
    "\n",
    "Number of reviews: 1500"
   ]
  },
  {
   "cell_type": "code",
   "execution_count": 1,
   "id": "cd0b6eb8-7bcd-45aa-b755-7eb120fa1318",
   "metadata": {},
   "outputs": [],
   "source": [
    "review_stats_file = '../data/review_features/reviews-stats-no_dups.tsv.gz'\n",
    "isbn_work_id_mappings_file = \"../data/book_metadata/work_isbn_title_genre.tsv.gz\"\n"
   ]
  },
  {
   "cell_type": "code",
   "execution_count": 2,
   "id": "2a25a5a9-839e-4f03-b7ea-e8e9ad2d27b9",
   "metadata": {},
   "outputs": [],
   "source": [
    "from impfic_core.map.map_genre import read_genre_file\n",
    "\n",
    "# read work theme mapping\n",
    "work_genre = read_genre_file(isbn_work_id_mappings_file)\n",
    "work_genre = work_genre[['work_id', 'nur_genre']].drop_duplicates()\n",
    "\n"
   ]
  },
  {
   "cell_type": "code",
   "execution_count": 15,
   "id": "09256b3c-f1b1-4165-ab27-e5434d78adaf",
   "metadata": {},
   "outputs": [],
   "source": [
    "import pandas as pd\n",
    "\n",
    "\n",
    "# read review metadata\n",
    "review_stats = pd.read_csv(review_stats_file, sep='\\t', compression='gzip')\n",
    "\n",
    "# merge review metadata and theme data\n",
    "review_stats = pd.merge(review_stats, work_genre[['work_id', 'nur_genre']].drop_duplicates(), \n",
    "                        on='work_id', how='left')\n",
    "\n",
    "# remove reviews with no words\n",
    "review_stats = review_stats[review_stats.review_num_words > 0]\n",
    "\n",
    "# remove duplicate reviews with alternative work ID\n",
    "review_stats = review_stats.groupby('review_id').first().reset_index()\n",
    "\n",
    "# add unknown when no nur_genre is provided\n",
    "review_stats['nur_genre'] = (review_stats\n",
    "                             .nur_genre\n",
    "                             .apply(lambda x: 'unknown' if pd.isna(x) else x))\n",
    "\n"
   ]
  },
  {
   "cell_type": "code",
   "execution_count": 29,
   "id": "98706bf7-bf49-414c-9e60-09971596738f",
   "metadata": {},
   "outputs": [],
   "source": [
    "import numpy as np\n",
    "\n",
    "\n",
    "review_stats['log_num_words'] = review_stats.review_num_words.apply(lambda x: np.log(x+1))"
   ]
  },
  {
   "cell_type": "code",
   "execution_count": 30,
   "id": "fc8c4d2b-e90a-4358-898d-36c0e3a79d90",
   "metadata": {},
   "outputs": [
    {
     "data": {
      "text/plain": [
       "Bol            254080\n",
       "Hebban         210583\n",
       "Goodreads       90600\n",
       "WLJN            38210\n",
       "NBD_Biblion     36310\n",
       "Dizzie          26873\n",
       "Boekmeter        7250\n",
       "LTL              7004\n",
       "Name: source, dtype: int64"
      ]
     },
     "execution_count": 30,
     "metadata": {},
     "output_type": "execute_result"
    }
   ],
   "source": [
    "# remove professional reviews\n",
    "#review_stats = review_stats[review_stats.source != 'NBD_Biblion']\n",
    "review_stats.source.value_counts()"
   ]
  },
  {
   "cell_type": "code",
   "execution_count": 31,
   "id": "6fcef113-7371-4213-8dec-225d8e32e26f",
   "metadata": {},
   "outputs": [
    {
     "data": {
      "text/plain": [
       "Literary_fiction      201090\n",
       "Non-fiction           108891\n",
       "unknown                94985\n",
       "Literary_thriller      77059\n",
       "Suspense               68562\n",
       "Other fiction          37414\n",
       "Young_adult            30263\n",
       "Children_fiction       27461\n",
       "Fantasy_fiction        13762\n",
       "Romance                 6428\n",
       "Historical_fiction      3467\n",
       "Regional_fiction        1528\n",
       "Name: nur_genre, dtype: int64"
      ]
     },
     "execution_count": 31,
     "metadata": {},
     "output_type": "execute_result"
    }
   ],
   "source": [
    "review_stats.nur_genre.value_counts()"
   ]
  },
  {
   "cell_type": "code",
   "execution_count": 86,
   "id": "20658b5e-1230-49a9-97e4-f93c6dc1726a",
   "metadata": {},
   "outputs": [
    {
     "data": {
      "text/plain": [
       "(387221, 12)"
      ]
     },
     "execution_count": 86,
     "metadata": {},
     "output_type": "execute_result"
    }
   ],
   "source": [
    "not_genres = ['unknown', 'Non-fiction']\n",
    "not_sources = ['Boekmeter', 'Dizzie', 'WLJN', 'LTL']\n",
    "\n",
    "filtered_step_1 = review_stats[(review_stats.nur_genre.isin(not_genres) == False)]\n",
    "filtered_step_1 = filtered_step_1[(filtered_step_1.source.isin(not_sources) == False)]\n",
    "filtered_step_1 = filtered_step_1[filtered_step_1.review_num_words >= 10]\n",
    "filtered_step_1.shape"
   ]
  },
  {
   "cell_type": "code",
   "execution_count": 87,
   "id": "dfbb55bb-010c-4169-a461-1e9b24be8832",
   "metadata": {},
   "outputs": [],
   "source": [
    "random_state = 11\n",
    "filtered_step_1.nur_genre.value_counts()\n",
    "anno_sample_step_1 = filtered_step_1.groupby('nur_genre').sample(100, random_state=random_state)"
   ]
  },
  {
   "cell_type": "code",
   "execution_count": 88,
   "id": "73df89a8-a121-4c28-a50e-51b4749ad546",
   "metadata": {},
   "outputs": [
    {
     "data": {
      "text/plain": [
       "Hebban         488\n",
       "Bol            393\n",
       "Goodreads       68\n",
       "NBD_Biblion     51\n",
       "Name: source, dtype: int64"
      ]
     },
     "execution_count": 88,
     "metadata": {},
     "output_type": "execute_result"
    }
   ],
   "source": [
    "anno_sample_step_1.source.value_counts()"
   ]
  },
  {
   "cell_type": "markdown",
   "id": "f406c1e2-eb9d-49a0-8535-6b7b77d37cd6",
   "metadata": {},
   "source": [
    "**Observation**: few reviews from Dizzie and especially Boekmeter."
   ]
  },
  {
   "cell_type": "code",
   "execution_count": 89,
   "id": "b78cdf96-2d81-442a-ab77-2a2b34e0d459",
   "metadata": {},
   "outputs": [
    {
     "name": "stdout",
     "output_type": "stream",
     "text": [
      "number of reviews with no rating: 51\n"
     ]
    },
    {
     "data": {
      "text/plain": [
       "5.0    388\n",
       "4.0    348\n",
       "3.0    143\n",
       "2.0     44\n",
       "1.0     21\n",
       "0.0      5\n",
       "Name: rating, dtype: int64"
      ]
     },
     "execution_count": 89,
     "metadata": {},
     "output_type": "execute_result"
    }
   ],
   "source": [
    "print(f\"number of reviews with no rating: {len(anno_sample_step_1[anno_sample_step_1.rating.isna()])}\")\n",
    "anno_sample_step_1.rating.value_counts()"
   ]
  },
  {
   "cell_type": "markdown",
   "id": "3a290650-7cf6-4a76-ab37-af51c3552a90",
   "metadata": {},
   "source": [
    "**Observation**: very few reviews with a low rating (below 3.0)."
   ]
  },
  {
   "cell_type": "code",
   "execution_count": 90,
   "id": "2b18e2d6-7f81-4701-83dd-9dc696a6632f",
   "metadata": {},
   "outputs": [
    {
     "name": "stdout",
     "output_type": "stream",
     "text": [
      "max review length: 1964\n"
     ]
    },
    {
     "data": {
      "text/plain": [
       "<Axes: xlabel='log_num_words', ylabel='Density'>"
      ]
     },
     "execution_count": 90,
     "metadata": {},
     "output_type": "execute_result"
    },
    {
     "data": {
      "image/png": "[encoded data removed]",
      "text/plain": [
       "<Figure size 640x480 with 1 Axes>"
      ]
     },
     "metadata": {},
     "output_type": "display_data"
    }
   ],
   "source": [
    "import seaborn as sns\n",
    "\n",
    "print('max review length:', anno_sample_step_1.review_num_words.max())\n",
    "sns.kdeplot(anno_sample_step_1.log_num_words)"
   ]
  },
  {
   "cell_type": "markdown",
   "id": "887110b2-f076-4479-a082-db1be688f7be",
   "metadata": {},
   "source": [
    "**Observation**: the length distribution looks good. There are very few short reviews, but that's not a problem. There are also not many very long reviews, but again, that's not a problem. As long as there are some."
   ]
  },
  {
   "cell_type": "code",
   "execution_count": 92,
   "id": "42ad2409-6e0c-414a-9f79-15075af5a57e",
   "metadata": {},
   "outputs": [
    {
     "data": {
      "text/plain": [
       "(520, 12)"
      ]
     },
     "execution_count": 92,
     "metadata": {},
     "output_type": "execute_result"
    }
   ],
   "source": [
    "anno_sample_step_1[anno_sample_step_1.review_num_words > 100].shape"
   ]
  },
  {
   "cell_type": "code",
   "execution_count": 94,
   "id": "6d45bd16-10de-4998-a1f3-3bbfabb5f541",
   "metadata": {},
   "outputs": [
    {
     "data": {
      "text/html": [
       "<div>\n",
       "<style scoped>\n",
       "    .dataframe tbody tr th:only-of-type {\n",
       "        vertical-align: middle;\n",
       "    }\n",
       "\n",
       "    .dataframe tbody tr th {\n",
       "        vertical-align: top;\n",
       "    }\n",
       "\n",
       "    .dataframe thead th {\n",
       "        text-align: right;\n",
       "    }\n",
       "</style>\n",
       "<table border=\"1\" class=\"dataframe\">\n",
       "  <thead>\n",
       "    <tr style=\"text-align: right;\">\n",
       "      <th></th>\n",
       "      <th>review_num_words</th>\n",
       "      <th>log_num_words</th>\n",
       "    </tr>\n",
       "  </thead>\n",
       "  <tbody>\n",
       "    <tr>\n",
       "      <th>12517</th>\n",
       "      <td>227</td>\n",
       "      <td>5.429346</td>\n",
       "    </tr>\n",
       "    <tr>\n",
       "      <th>235724</th>\n",
       "      <td>124</td>\n",
       "      <td>4.828314</td>\n",
       "    </tr>\n",
       "    <tr>\n",
       "      <th>32980</th>\n",
       "      <td>175</td>\n",
       "      <td>5.170484</td>\n",
       "    </tr>\n",
       "    <tr>\n",
       "      <th>321754</th>\n",
       "      <td>147</td>\n",
       "      <td>4.997212</td>\n",
       "    </tr>\n",
       "    <tr>\n",
       "      <th>22827</th>\n",
       "      <td>725</td>\n",
       "      <td>6.587550</td>\n",
       "    </tr>\n",
       "    <tr>\n",
       "      <th>...</th>\n",
       "      <td>...</td>\n",
       "      <td>...</td>\n",
       "    </tr>\n",
       "    <tr>\n",
       "      <th>280040</th>\n",
       "      <td>116</td>\n",
       "      <td>4.762174</td>\n",
       "    </tr>\n",
       "    <tr>\n",
       "      <th>196871</th>\n",
       "      <td>66</td>\n",
       "      <td>4.204693</td>\n",
       "    </tr>\n",
       "    <tr>\n",
       "      <th>474218</th>\n",
       "      <td>380</td>\n",
       "      <td>5.942799</td>\n",
       "    </tr>\n",
       "    <tr>\n",
       "      <th>54901</th>\n",
       "      <td>188</td>\n",
       "      <td>5.241747</td>\n",
       "    </tr>\n",
       "    <tr>\n",
       "      <th>476359</th>\n",
       "      <td>189</td>\n",
       "      <td>5.247024</td>\n",
       "    </tr>\n",
       "  </tbody>\n",
       "</table>\n",
       "<p>1000 rows × 2 columns</p>\n",
       "</div>"
      ],
      "text/plain": [
       "        review_num_words  log_num_words\n",
       "12517                227       5.429346\n",
       "235724               124       4.828314\n",
       "32980                175       5.170484\n",
       "321754               147       4.997212\n",
       "22827                725       6.587550\n",
       "...                  ...            ...\n",
       "280040               116       4.762174\n",
       "196871                66       4.204693\n",
       "474218               380       5.942799\n",
       "54901                188       5.241747\n",
       "476359               189       5.247024\n",
       "\n",
       "[1000 rows x 2 columns]"
      ]
     },
     "execution_count": 94,
     "metadata": {},
     "output_type": "execute_result"
    }
   ],
   "source": [
    "anno_sample_step_1[['review_num_words', 'log_num_words']]"
   ]
  },
  {
   "cell_type": "code",
   "execution_count": 95,
   "id": "08c08805-d7f8-45d2-9297-5e37fbf48744",
   "metadata": {},
   "outputs": [
    {
     "data": {
      "text/plain": [
       "(387221, 386221)"
      ]
     },
     "execution_count": 95,
     "metadata": {},
     "output_type": "execute_result"
    }
   ],
   "source": [
    "filtered_step_2 = filtered_step_1[filtered_step_1.review_id.isin(anno_sample_step_1.review_id) == False]\n",
    "len(filtered_step_1), len(filtered_step_2)"
   ]
  },
  {
   "cell_type": "markdown",
   "id": "95b9c7fd-b23a-4ad2-b4a7-f30a2e6e6c1e",
   "metadata": {},
   "source": [
    "## Adding reviews from under-represented platforms"
   ]
  },
  {
   "cell_type": "code",
   "execution_count": 98,
   "id": "de9af5ae-cb4c-4adc-9f58-312369d4a9c0",
   "metadata": {},
   "outputs": [
    {
     "data": {
      "text/plain": [
       "Hebban         488\n",
       "Bol            393\n",
       "Goodreads       68\n",
       "NBD_Biblion     51\n",
       "Name: source, dtype: int64"
      ]
     },
     "execution_count": 98,
     "metadata": {},
     "output_type": "execute_result"
    }
   ],
   "source": [
    "source_num_sampled = anno_sample_step_1.source.value_counts()\n",
    "source_num_sampled"
   ]
  },
  {
   "cell_type": "code",
   "execution_count": 106,
   "id": "a6e292f6-aa27-4a0e-8820-1a93cac5c5a0",
   "metadata": {},
   "outputs": [
    {
     "name": "stdout",
     "output_type": "stream",
     "text": [
      "under-represented: Goodreads 32\n",
      "under-represented: NBD_Biblion 49\n",
      "unsampled reviews: 386140\n",
      "reviews sampled per source:\n"
     ]
    },
    {
     "data": {
      "text/plain": [
       "Hebban         488\n",
       "Bol            393\n",
       "NBD_Biblion    100\n",
       "Goodreads      100\n",
       "Name: source, dtype: int64"
      ]
     },
     "execution_count": 106,
     "metadata": {},
     "output_type": "execute_result"
    }
   ],
   "source": [
    "min_source_num = 100\n",
    "\n",
    "source_samples = []\n",
    "for source in source_num_sampled.index:\n",
    "    to_add = min_source_num - source_num_sampled[source] if source_num_sampled[source] < min_source_num else 0\n",
    "    if to_add == 0:\n",
    "        continue\n",
    "    print('under-represented:', source, to_add)\n",
    "    # sample from reviews not in the annotation sample\n",
    "    source_sample = filtered_step_2[filtered_step_2.source == source].sample(to_add, random_state=random_state)\n",
    "    source_samples.append(source_sample)\n",
    "\n",
    "anno_sample_step_2 = pd.concat([anno_sample_step_1] + source_samples)\n",
    "filtered_step_3 = filtered_step_2[filtered_step_2.review_id.isin(anno_sample_step_2.review_id) == False]\n",
    "print('unsampled reviews:', len(filtered_step_3))\n",
    "\n",
    "print('reviews sampled per source:')\n",
    "anno_sample_step_2.source.value_counts()"
   ]
  },
  {
   "cell_type": "markdown",
   "id": "cfd26d7c-91f7-471f-8068-4c5bb6805047",
   "metadata": {},
   "source": [
    "## Adding reviews with low ratings"
   ]
  },
  {
   "cell_type": "code",
   "execution_count": 110,
   "id": "2852dd0d-a255-4213-a4b5-fc2da228dcc5",
   "metadata": {},
   "outputs": [
    {
     "name": "stdout",
     "output_type": "stream",
     "text": [
      "reviews left to sample: 319\n"
     ]
    }
   ],
   "source": [
    "target_num_reviews = 1400\n",
    "\n",
    "to_sample = target_num_reviews - len(anno_sample_step_2)\n",
    "print('reviews left to sample:', to_sample)"
   ]
  },
  {
   "cell_type": "code",
   "execution_count": 114,
   "id": "a5a7a52e-5341-4a61-ae8d-8cfe438b6f76",
   "metadata": {},
   "outputs": [],
   "source": [
    "low_rating = filtered_step_3[filtered_step_3.rating < 3.0]\n",
    "#low_rating_sample = low_rating.groupby('source').\n",
    "low_rating.source.value_counts()\n",
    "low_rating.rating.value_counts()\n",
    "\n",
    "# sample the remaining reviews from the ones with low ratings\n",
    "rating_sample = low_rating.sample(to_sample, random_state=random_state)\n",
    "\n",
    "# combine the samples\n",
    "anno_sample_step_3 = pd.concat([anno_sample_step_2, rating_sample])"
   ]
  },
  {
   "cell_type": "code",
   "execution_count": 123,
   "id": "11766ba6-a94c-4e4f-91c5-835793547a5f",
   "metadata": {},
   "outputs": [
    {
     "name": "stdout",
     "output_type": "stream",
     "text": [
      "number of sampled reviews: 1400\n",
      "number of reviews longer than 100 words: 720\n",
      "reviews per ratign:\n"
     ]
    },
    {
     "data": {
      "text/plain": [
       "5.0    394\n",
       "4.0    365\n",
       "2.0    259\n",
       "3.0    148\n",
       "1.0    123\n",
       "0.0     10\n",
       "Name: rating, dtype: int64"
      ]
     },
     "execution_count": 123,
     "metadata": {},
     "output_type": "execute_result"
    }
   ],
   "source": [
    "print('number of sampled reviews:', len(anno_sample_step_3))\n",
    "print('number of reviews longer than 100 words:', len(anno_sample_step_3[anno_sample_step_3.review_num_words > 100]))\n",
    "\n",
    "print('reviews per ratign:')\n",
    "anno_sample_step_3.rating.value_counts()"
   ]
  },
  {
   "cell_type": "code",
   "execution_count": 121,
   "id": "2f33b7a2-79c8-4117-913f-ef0e0c889c02",
   "metadata": {},
   "outputs": [
    {
     "name": "stdout",
     "output_type": "stream",
     "text": [
      "reviews per platform:\n"
     ]
    },
    {
     "data": {
      "text/plain": [
       "Hebban         632\n",
       "Bol            504\n",
       "Goodreads      164\n",
       "NBD_Biblion    100\n",
       "Name: source, dtype: int64"
      ]
     },
     "execution_count": 121,
     "metadata": {},
     "output_type": "execute_result"
    }
   ],
   "source": [
    "print('reviews per platform:')\n",
    "anno_sample_step_3.source.value_counts()"
   ]
  },
  {
   "cell_type": "code",
   "execution_count": 122,
   "id": "562baf28-8047-4458-9978-b9560b1dac3a",
   "metadata": {},
   "outputs": [
    {
     "name": "stdout",
     "output_type": "stream",
     "text": [
      "reviews per genre:\n"
     ]
    },
    {
     "data": {
      "text/plain": [
       "Literary_fiction      297\n",
       "Suspense              169\n",
       "Literary_thriller     164\n",
       "Other fiction         130\n",
       "Young_adult           116\n",
       "Children_fiction      109\n",
       "Fantasy_fiction       107\n",
       "Historical_fiction    105\n",
       "Romance               102\n",
       "Regional_fiction      101\n",
       "Name: nur_genre, dtype: int64"
      ]
     },
     "execution_count": 122,
     "metadata": {},
     "output_type": "execute_result"
    }
   ],
   "source": [
    "print('reviews per genre:')\n",
    "anno_sample_step_3.nur_genre.value_counts()"
   ]
  },
  {
   "cell_type": "code",
   "execution_count": 133,
   "id": "81c53f51-7f96-4292-ba51-a99c2291946b",
   "metadata": {},
   "outputs": [
    {
     "data": {
      "text/plain": [
       "source     rating\n",
       "Bol        5.0       225\n",
       "           4.0       112\n",
       "           2.0        77\n",
       "           1.0        55\n",
       "           3.0        35\n",
       "Goodreads  2.0        55\n",
       "           4.0        48\n",
       "           1.0        23\n",
       "           5.0        20\n",
       "           3.0        17\n",
       "Hebban     4.0       205\n",
       "           5.0       149\n",
       "           2.0       127\n",
       "           3.0        96\n",
       "           1.0        45\n",
       "           0.0        10\n",
       "Name: rating, dtype: int64"
      ]
     },
     "execution_count": 133,
     "metadata": {},
     "output_type": "execute_result"
    }
   ],
   "source": [
    "anno_sample_step_3.groupby('source').rating.value_counts()"
   ]
  },
  {
   "cell_type": "code",
   "execution_count": 134,
   "id": "a78f986d-f2f6-440b-b7ea-48ef5cfa626f",
   "metadata": {},
   "outputs": [
    {
     "data": {
      "text/plain": [
       "nur_genre           rating\n",
       "Children_fiction    5.0        54\n",
       "                    4.0        32\n",
       "                    3.0         7\n",
       "                    1.0         5\n",
       "                    0.0         4\n",
       "                    2.0         1\n",
       "Fantasy_fiction     5.0        46\n",
       "                    4.0        32\n",
       "                    2.0         9\n",
       "                    3.0         9\n",
       "                    1.0         4\n",
       "Historical_fiction  4.0        39\n",
       "                    5.0        38\n",
       "                    3.0        13\n",
       "                    2.0         7\n",
       "                    1.0         4\n",
       "Literary_fiction    2.0       121\n",
       "                    1.0        48\n",
       "                    4.0        39\n",
       "                    5.0        37\n",
       "                    3.0        26\n",
       "                    0.0         1\n",
       "Literary_thriller   2.0        48\n",
       "                    4.0        38\n",
       "                    5.0        28\n",
       "                    1.0        22\n",
       "                    3.0        18\n",
       "Other fiction       5.0        38\n",
       "                    4.0        37\n",
       "                    3.0        15\n",
       "                    2.0        12\n",
       "                    1.0         9\n",
       "                    0.0         1\n",
       "Regional_fiction    5.0        38\n",
       "                    4.0        31\n",
       "                    3.0        13\n",
       "                    2.0         7\n",
       "                    1.0         1\n",
       "Romance             4.0        43\n",
       "                    5.0        36\n",
       "                    3.0        17\n",
       "                    1.0         3\n",
       "                    2.0         1\n",
       "Suspense            2.0        45\n",
       "                    4.0        36\n",
       "                    5.0        35\n",
       "                    1.0        24\n",
       "                    3.0        19\n",
       "                    0.0         2\n",
       "Young_adult         5.0        44\n",
       "                    4.0        38\n",
       "                    3.0        11\n",
       "                    2.0         8\n",
       "                    1.0         3\n",
       "                    0.0         2\n",
       "Name: rating, dtype: int64"
      ]
     },
     "execution_count": 134,
     "metadata": {},
     "output_type": "execute_result"
    }
   ],
   "source": [
    "anno_sample_step_3.groupby('nur_genre').rating.value_counts()"
   ]
  },
  {
   "cell_type": "code",
   "execution_count": 128,
   "id": "0bec1956-40ff-4c30-b30f-671ec31cf185",
   "metadata": {},
   "outputs": [],
   "source": [
    "anno_sample_step_3.to_csv('review_sample_annotation.tsv', sep='\\t', index=False)"
   ]
  },
  {
   "cell_type": "markdown",
   "id": "da037946-540c-4d5d-b36a-74a1a0e3f54a",
   "metadata": {},
   "source": [
    "## Tokenizing sentences of sampled reviews\n",
    "\n",
    "The reviews must be saved one per file, with each sentence on a separate line."
   ]
  },
  {
   "cell_type": "code",
   "execution_count": 130,
   "id": "5c66ef88-0f92-4002-b5fe-b16315e46d16",
   "metadata": {},
   "outputs": [
    {
     "data": {
      "application/vnd.jupyter.widget-view+json": {
       "model_id": "d6799c025a6c41f1850103766b799bde",
       "version_major": 2,
       "version_minor": 0
      },
      "text/plain": [
       "Downloading:   0%|          | 0.00/5.07M [00:00<?, ?B/s]"
      ]
     },
     "metadata": {},
     "output_type": "display_data"
    },
    {
     "name": "stdout",
     "output_type": "stream",
     "text": [
      "http://nlp.uoregon.edu/download/trankit/v1.0.0/xlm-roberta-base/dutch.zip\n"
     ]
    },
    {
     "name": "stderr",
     "output_type": "stream",
     "text": [
      "Downloading: 100%|██████████████████████████████████████████████████████████████████████████████████████████████████████████████████████████| 46.3M/46.3M [00:12<00:00, 3.78MiB/s]\n"
     ]
    },
    {
     "name": "stdout",
     "output_type": "stream",
     "text": [
      "Loading pretrained XLM-Roberta, this may take a while...\n"
     ]
    },
    {
     "data": {
      "application/vnd.jupyter.widget-view+json": {
       "model_id": "1034e6da6e754c5ba9f84f69a232735a",
       "version_major": 2,
       "version_minor": 0
      },
      "text/plain": [
       "Downloading:   0%|          | 0.00/512 [00:00<?, ?B/s]"
      ]
     },
     "metadata": {},
     "output_type": "display_data"
    },
    {
     "data": {
      "application/vnd.jupyter.widget-view+json": {
       "model_id": "15a01e6743d24670b764771a497f0942",
       "version_major": 2,
       "version_minor": 0
      },
      "text/plain": [
       "Downloading:   0%|          | 0.00/1.12G [00:00<?, ?B/s]"
      ]
     },
     "metadata": {},
     "output_type": "display_data"
    },
    {
     "name": "stdout",
     "output_type": "stream",
     "text": [
      "Loading tokenizer for dutch\n",
      "Loading tagger for dutch\n",
      "Loading lemmatizer for dutch\n",
      "Loading NER tagger for dutch\n",
      "==================================================\n",
      "Active language: dutch\n",
      "==================================================\n"
     ]
    }
   ],
   "source": [
    "from trankit import Pipeline\n",
    "\n",
    "# initialize a multilingual pipeline\n",
    "p = Pipeline(lang='dutch', gpu=False, cache_dir='./cache')"
   ]
  },
  {
   "cell_type": "code",
   "execution_count": null,
   "id": "5ae266a5-6288-491c-9989-93f3b5bf1109",
   "metadata": {},
   "outputs": [],
   "source": []
  },
  {
   "cell_type": "code",
   "execution_count": 132,
   "id": "91bf1180-e412-4c86-9711-a0329c3b9b6a",
   "metadata": {},
   "outputs": [],
   "source": [
    "def write_review(review_id: str, review_text: str):\n",
    "    review_file = f'data/sampled_reviews/{review_id}.txt'\n",
    "    with open(review_file, 'wt') as fh:\n",
    "        sentence_doc = p.ssplit(review_text)\n",
    "        for sentence in sentence_doc['sentences']:\n",
    "            fh.write(f\"{sentence['text']}\\n\")\n",
    "\n",
    "for idx, row in anno_sample_step_3.iterrows():\n",
    "    write_review(row['review_id'], row['review_text'])\n",
    "    "
   ]
  }
 ],
 "metadata": {
  "kernelspec": {
   "display_name": "Python 3 (ipykernel)",
   "language": "python",
   "name": "python3"
  },
  "language_info": {
   "codemirror_mode": {
    "name": "ipython",
    "version": 3
   },
   "file_extension": ".py",
   "mimetype": "text/x-python",
   "name": "python",
   "nbconvert_exporter": "python",
   "pygments_lexer": "ipython3",
   "version": "3.10.15"
  }
 },
 "nbformat": 4,
 "nbformat_minor": 5
}
